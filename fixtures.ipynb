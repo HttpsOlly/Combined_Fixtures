import re
import json
import requests
from bs4 import BeautifulSoup
import urllib.request

#URL Source
'https://www.premierleague.com/broadcast-schedules'

#Loads exact API (Change Comp Seasons at end of URL)
Fixtures_URL = 'https://footballapi.pulselive.com/football/fixtures?comps=1&teams=1,2,127,130,131,4,6,7,34,8,26,10,11,12,23,15,20,21,25,38&compSeasons=719&page=0&pageSize=20&sort=asc&statuses=U,L&altIds=true&fast=false'
Broadcasting_URL = 'https://footballapi.pulselive.com/football/broadcasting-schedule/fixtures?page=0&pageSize=20&statuses=U,L&altIds=true&comps=1&compSeasons=719'


Fixtures_Page = requests.get(Fixtures_URL, headers={'origin':'https://www.premierleague.com'})
Fixtures_Contents = json.loads(Fixtures_Page.content)['content']

Broadcasting_Page = requests.get(Broadcasting_URL, headers={'origin':'https://www.premierleague.com'})
Broadcasting_Contents = json.loads(Broadcasting_Page.content)['content']


iteration = 0
date_to_print = ""

Fixture_Array = []
Broadcasting_Array = []

for fixtures in Fixtures_Contents:
    match_id = str(int(fixtures['id']))

    date = re.search('[^\s]+\s+[^\s]+', fixtures['kickoff']['label'])[0]
    time = re.search("\d{2}:\d{2}", fixtures['kickoff']['label'])[0]
    home = fixtures['teams'][0]['team']['club']['abbr']
    away = fixtures['teams'][1]['team']['club']['abbr']

    for broadcast in Broadcasting_Contents:
        
        broa = 'Non-Broadcast'
        if (match_id == str(int(broadcast['fixture']['id']))):
            broa = broadcast['broadcasters'][0]['abbreviation']
            break
            
    if (date_to_print != date):
        date_to_print = (date)
        print("\n" + date_to_print)

    print(time, home, 'v', away, '-', broa)
    
    iteration += 1
    
    if (iteration == 10):
        break
