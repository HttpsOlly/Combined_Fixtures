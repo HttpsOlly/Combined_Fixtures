import re
import json
import requests
from bs4 import BeautifulSoup
import urllib.request

#URL Source
'https://www.premierleague.com/broadcast-schedules'

#Loads exact API (Change Comp Seasons at end of URL)
Fixtures_URL = 'https://footballapi.pulselive.com/football/fixtures?comps=1&teams=1,2,127,130,131,4,6,7,34,8,26,10,11,12,23,15,20,21,25,38&compSeasons=719&page=0&pageSize=20&sort=asc&statuses=U,L&altIds=true&fast=false'
Broadcasting_URL = 'https://footballapi.pulselive.com/football/broadcasting-schedule/fixtures?page=0&pageSize=20&statuses=U,L&altIds=true&comps=1&compSeasons=719'


Fixtures_Page = requests.get(Fixtures_URL, headers={'origin':'https://www.premierleague.com'})
Fixtures_Contents = json.loads(Fixtures_Page.content)['content']

Broadcasting_Page = requests.get(Broadcasting_URL, headers={'origin':'https://www.premierleague.com'})
Broadcasting_Contents = json.loads(Broadcasting_Page.content)['content']


iteration = 0
date_to_print = ""

Fixture_Array = []
Broadcasting_Array = []



for content in Fixtures_Contents:
    match_id = str(int(content['id']))

    if (iteration) == 10:
        print(Fixture_Array)
        break

    iteration += 1

    Fixture_Array.append(match_id)

for content in Broadcasting_Contents:
    
    date = re.search('[^\s]+\s+[^\s]+', content['fixture']['kickoff']['label'])[0]
    time = re.search("\d{2}:\d{2}", content['fixture']['kickoff']['label'])[0]
    home = content['fixture']['teams'][0]['team']['club']['abbr']
    away = content['fixture']['teams'][1]['team']['club']['abbr']
    broa = content['broadcasters'][0]['abbreviation']  
    
    match_id = str(int(content['fixture']['id']))

    if (match_id in Fixture_Array):
        print(time, home, 'v', away, '-', broa)

    iteration += 1

    Broadcasting_Array.append(match_id)

# for content in contents:
    
#     date = re.search('[^\s]+\s+[^\s]+', content['fixture']['kickoff']['label'])[0]
#     time = re.search("\d{2}:\d{2}", content['fixture']['kickoff']['label'])[0]
#     home = content['fixture']['teams'][0]['team']['club']['abbr']
#     away = content['fixture']['teams'][1]['team']['club']['abbr']
#     broa = content['broadcasters'][0]['abbreviation']    
    
#     if (iteration) == 10:
#         break
    
#     if (date_to_print != date):
#         date_to_print = (date)
#         print("\n" + date_to_print)
    
#     print(time, home, 'v', away, '-', broa)
    
#     iteration += 1
